{
  "nbformat": 4,
  "nbformat_minor": 0,
  "metadata": {
    "colab": {
      "name": "MobileNetSSD_v1.ipynb",
      "provenance": [],
      "collapsed_sections": []
    },
    "kernelspec": {
      "name": "python3",
      "display_name": "Python 3"
    },
    "accelerator": "GPU"
  },
  "cells": [
    {
      "cell_type": "code",
      "metadata": {
        "id": "7Fdq5QKw-JUk",
        "colab_type": "code",
        "colab": {}
      },
      "source": [
        "%tensorflow_version 2.x\n"
      ],
      "execution_count": 0,
      "outputs": []
    },
    {
      "cell_type": "code",
      "metadata": {
        "id": "vXsKH5gR-PVh",
        "colab_type": "code",
        "colab": {}
      },
      "source": [
        "import tensorflow as tf\n",
        "import numpy as np\n",
        "from PIL import Image\n",
        "from IPython import display\n",
        "import random\n",
        "import gc\n",
        "import cv2 \n",
        "import numpy.matlib\n",
        "SEED = 10\n",
        "\n",
        "\n",
        "np.random.seed(SEED)\n",
        "tf.random.set_seed(SEED)\n",
        "random.seed(SEED)"
      ],
      "execution_count": 0,
      "outputs": []
    },
    {
      "cell_type": "code",
      "metadata": {
        "id": "9mbLmvgv-Roc",
        "colab_type": "code",
        "colab": {}
      },
      "source": [
        "## Due to ram issue work first on small dataSet\n",
        "\n",
        "TRAINSIZE = 6000\n",
        "TESTSIZE = 1000\n",
        "TARGETSIZE = 300  # mobilenet size\n",
        "CURRENTSIZE = 56   # mnist size\n",
        "IMG_SHAPE = (TARGETSIZE, TARGETSIZE, 3)\n",
        "\n"
      ],
      "execution_count": 0,
      "outputs": []
    },
    {
      "cell_type": "code",
      "metadata": {
        "id": "QUp3-MPw-U_z",
        "colab_type": "code",
        "colab": {}
      },
      "source": [
        "## SSD feature layer \n",
        "listLayerWidth = [38,19,10,5,3,1]\n",
        "listNumBoxes = [4,6,6,6,4,4]\n",
        "numClasses = 10 + 1 #mnist 10 plus background  0-9 is digit 10 means background\n",
        "LastChannel = numClasses + 4 # class and corresponding delta(cx,cy,h,w)"
      ],
      "execution_count": 0,
      "outputs": []
    },
    {
      "cell_type": "markdown",
      "metadata": {
        "id": "iGiGfHf1-pKA",
        "colab_type": "text"
      },
      "source": [
        "# **Model Creation**\n",
        "\n",
        "\n"
      ]
    },
    {
      "cell_type": "code",
      "metadata": {
        "id": "d5TtEhJJ-h5T",
        "colab_type": "code",
        "outputId": "6e283682-59ab-43f2-9507-67111aa97100",
        "colab": {
          "base_uri": "https://localhost:8080/",
          "height": 70
        }
      },
      "source": [
        "inputTensor = tf.keras.Input(IMG_SHAPE)\n",
        "mobileNet = tf.keras.applications.MobileNetV2(input_shape=IMG_SHAPE, include_top=False, weights='imagenet', input_tensor=inputTensor)\n",
        "mobileNet.trainable = False"
      ],
      "execution_count": 0,
      "outputs": [
        {
          "output_type": "stream",
          "text": [
            "WARNING:tensorflow:`input_shape` is undefined or non-square, or `rows` is not in [96, 128, 160, 192, 224]. Weights for input shape (224, 224) will be loaded as the default.\n",
            "Downloading data from https://storage.googleapis.com/tensorflow/keras-applications/mobilenet_v2/mobilenet_v2_weights_tf_dim_ordering_tf_kernels_1.0_224_no_top.h5\n",
            "9412608/9406464 [==============================] - 0s 0us/step\n"
          ],
          "name": "stdout"
        }
      ]
    },
    {
      "cell_type": "code",
      "metadata": {
        "id": "FLU-o-Ro_HUH",
        "colab_type": "code",
        "outputId": "460dceb3-8563-4544-c6fa-ff7177441014",
        "colab": {
          "base_uri": "https://localhost:8080/",
          "height": 124
        }
      },
      "source": [
        "### Followed architecture of the main complete SSD architecture model , \n",
        "# We can keep lower number of channels for faster implementation\n",
        "\n",
        "FeatureLayer = []\n",
        "\n",
        "FeatureLayer.append(mobileNet.get_layer('block_6_expand_relu').output)\n",
        "FeatureLayer.append(mobileNet.get_layer('block_13_expand_relu').output)\n",
        "\n",
        "SSDConv1a = tf.keras.layers.Conv2D(256, 1)\n",
        "SSDConv1b = tf.keras.layers.Conv2D(512, 3,strides=(2,2), padding='same')\n",
        "FeatureLayer.append(SSDConv1b(SSDConv1a(FeatureLayer[-1])))\n",
        "\n",
        "SSDConv2a = tf.keras.layers.Conv2D(128, 1)\n",
        "SSDConv2b = tf.keras.layers.Conv2D(256, 3,strides=(2,2), padding='same')\n",
        "FeatureLayer.append(SSDConv2b(SSDConv2a(FeatureLayer[-1])))\n",
        "\n",
        "SSDConv3a = tf.keras.layers.Conv2D(128, 1)\n",
        "SSDConv3b = tf.keras.layers.Conv2D(256, 3,strides=(2,2), padding='same')\n",
        "FeatureLayer.append(SSDConv3b(SSDConv3a(FeatureLayer[-1])))\n",
        "\n",
        "SSDConv4a = tf.keras.layers.Conv2D(128, 1)\n",
        "SSDConv4b = tf.keras.layers.Conv2D(256, 3,strides=(2,2))\n",
        "FeatureLayer.append(SSDConv4b(SSDConv4a(FeatureLayer[-1])))\n",
        "\n",
        "for f in FeatureLayer:\n",
        "  print(f.shape)"
      ],
      "execution_count": 0,
      "outputs": [
        {
          "output_type": "stream",
          "text": [
            "(None, 38, 38, 192)\n",
            "(None, 19, 19, 576)\n",
            "(None, 10, 10, 512)\n",
            "(None, 5, 5, 256)\n",
            "(None, 3, 3, 256)\n",
            "(None, 1, 1, 256)\n"
          ],
          "name": "stdout"
        }
      ]
    },
    {
      "cell_type": "code",
      "metadata": {
        "id": "fP1toGJe_oEZ",
        "colab_type": "code",
        "outputId": "52f238ed-e711-4128-9160-8d8d5c0b4bd8",
        "colab": {
          "base_uri": "https://localhost:8080/",
          "height": 124
        }
      },
      "source": [
        "ClassLayer = []\n",
        "for i in range(6):\n",
        "  outChannel = listNumBoxes[i]*LastChannel\n",
        "  if listLayerWidth[i] >= 3 :\n",
        "    ClassLayer.append(tf.keras.layers.Conv2D(outChannel, 3 , padding = 'same')(FeatureLayer[i]))\n",
        "  else:\n",
        "    ClassLayer.append(tf.keras.layers.Conv2D(outChannel, 1 , padding = 'same')(FeatureLayer[i]))\n",
        "for c in ClassLayer:\n",
        "  print(c.shape)"
      ],
      "execution_count": 0,
      "outputs": [
        {
          "output_type": "stream",
          "text": [
            "(None, 38, 38, 60)\n",
            "(None, 19, 19, 90)\n",
            "(None, 10, 10, 90)\n",
            "(None, 5, 5, 90)\n",
            "(None, 3, 3, 60)\n",
            "(None, 1, 1, 60)\n"
          ],
          "name": "stdout"
        }
      ]
    },
    {
      "cell_type": "code",
      "metadata": {
        "id": "5RL6TDucBo_w",
        "colab_type": "code",
        "outputId": "2a5cc34f-aa57-42b3-c9e5-9026418b0b63",
        "colab": {
          "base_uri": "https://localhost:8080/",
          "height": 124
        }
      },
      "source": [
        "ReshapedLayer = []\n",
        "for i in range(6):\n",
        "  ReshapedLayer.append(tf.keras.layers.Reshape((listLayerWidth[i]*listLayerWidth[i]*listNumBoxes[i],15))(ClassLayer[i]))\n",
        "\n",
        "for r in ReshapedLayer:\n",
        "  print(r.shape)\n",
        "\n"
      ],
      "execution_count": 0,
      "outputs": [
        {
          "output_type": "stream",
          "text": [
            "(None, 5776, 15)\n",
            "(None, 2166, 15)\n",
            "(None, 600, 15)\n",
            "(None, 150, 15)\n",
            "(None, 36, 15)\n",
            "(None, 4, 15)\n"
          ],
          "name": "stdout"
        }
      ]
    },
    {
      "cell_type": "code",
      "metadata": {
        "id": "yJ0Sqrg6CVw7",
        "colab_type": "code",
        "outputId": "182d97a2-f119-4672-fa51-cc9154340857",
        "colab": {
          "base_uri": "https://localhost:8080/",
          "height": 35
        }
      },
      "source": [
        "OutputTensor = tf.keras.layers.concatenate( ReshapedLayer, axis = -2)\n",
        "print(inputTensor.shape , OutputTensor.shape)"
      ],
      "execution_count": 0,
      "outputs": [
        {
          "output_type": "stream",
          "text": [
            "(None, 300, 300, 3) (None, 8732, 15)\n"
          ],
          "name": "stdout"
        }
      ]
    },
    {
      "cell_type": "code",
      "metadata": {
        "id": "l0QXTXspCbqv",
        "colab_type": "code",
        "colab": {}
      },
      "source": [
        "finalModel = tf.keras.Model(inputs = inputTensor, outputs = OutputTensor)\n"
      ],
      "execution_count": 0,
      "outputs": []
    },
    {
      "cell_type": "code",
      "metadata": {
        "id": "WkiW0wHbCkMG",
        "colab_type": "code",
        "colab": {}
      },
      "source": [
        "# finalModel.summary()"
      ],
      "execution_count": 0,
      "outputs": []
    },
    {
      "cell_type": "markdown",
      "metadata": {
        "id": "pP-QZrJRClHb",
        "colab_type": "text"
      },
      "source": [
        "Default Boxes Creation\n"
      ]
    },
    {
      "cell_type": "code",
      "metadata": {
        "id": "ElXdQ5RmCi1l",
        "colab_type": "code",
        "colab": {}
      },
      "source": [
        "DEFAULT_BOXES = sum([a*a*b for a,b in zip(listLayerWidth , listNumBoxes) ])"
      ],
      "execution_count": 0,
      "outputs": []
    },
    {
      "cell_type": "code",
      "metadata": {
        "id": "0efL-yfaC_yc",
        "colab_type": "code",
        "colab": {}
      },
      "source": [
        "defaultCentres = np.zeros((DEFAULT_BOXES,2) )\n",
        "defaultHW = np.zeros((DEFAULT_BOXES,2) ) ## height width\n",
        "defaultBoxes = np.zeros((DEFAULT_BOXES,4) )"
      ],
      "execution_count": 0,
      "outputs": []
    },
    {
      "cell_type": "code",
      "metadata": {
        "id": "34GyS-UtDAzH",
        "colab_type": "code",
        "outputId": "1c3ceee2-7e24-4918-eedd-8e3b19b5fe6b",
        "colab": {
          "base_uri": "https://localhost:8080/",
          "height": 35
        }
      },
      "source": [
        "### Scales ...\n",
        "sMin = 0.2\n",
        "sMax = 0.9\n",
        "m = 6\n",
        "sK = []\n",
        "\n",
        "for k in range(1,m+1):\n",
        "  sK.append(sMin + (k-1) *(sMax - sMin) /(m-1) )\n",
        "\n",
        "sKPlus1 = sK[1:]\n",
        "sKPlus1.append(1)\n",
        "\n",
        "print(sK , sKPlus1)"
      ],
      "execution_count": 0,
      "outputs": [
        {
          "output_type": "stream",
          "text": [
            "[0.2, 0.33999999999999997, 0.48, 0.6199999999999999, 0.76, 0.8999999999999999] [0.33999999999999997, 0.48, 0.6199999999999999, 0.76, 0.8999999999999999, 1]\n"
          ],
          "name": "stdout"
        }
      ]
    },
    {
      "cell_type": "code",
      "metadata": {
        "id": "tW87T8aJDOdh",
        "colab_type": "code",
        "colab": {}
      },
      "source": [
        "## Default filling\n",
        "Completed = 0\n",
        "## aspect ratios\n",
        "asp1 = 0.5**0.5\n",
        "asp2 = 2**0.5\n",
        "asp3 = 0.33**0.5\n",
        "asp4 = 3**0.5\n",
        "\n",
        "for layerWidth,numBoxes,sk,skp1 in zip(listLayerWidth,listNumBoxes,sK,sKPlus1):\n",
        "  boxSizePixels = TARGETSIZE * 1.0 / layerWidth\n",
        "  for i in range(layerWidth):\n",
        "    for j in range(layerWidth):\n",
        "      for rep in range(numBoxes):\n",
        "        defaultCentres[layerWidth*numBoxes*i + numBoxes * j + rep + Completed,:] = (boxSizePixels*i + boxSizePixels/2,boxSizePixels*j + boxSizePixels/2)\n",
        "      defaultHW[ layerWidth*numBoxes*i + numBoxes * j + 0 + Completed ,  : ] = (sk , sk)\n",
        "      defaultHW[ layerWidth*numBoxes*i + numBoxes * j + 1 + Completed ,  : ] = (sk*asp1 , sk*asp2)\n",
        "      defaultHW[ layerWidth*numBoxes*i + numBoxes * j + 2 + Completed ,  : ] = (sk*asp2 , sk*asp1)\n",
        "      defaultHW[ layerWidth*numBoxes*i + numBoxes * j + 3 + Completed ,  : ] = ((sk*skp1)**0.5 , (sk*skp1)**0.5)\n",
        "      if numBoxes > 4 :\n",
        "        defaultHW[ layerWidth*numBoxes*i + numBoxes * j + 4 + Completed ,  : ] = (sk*asp3 , sk*asp4)\n",
        "        defaultHW[ layerWidth*numBoxes*i + numBoxes * j + 5 + Completed ,  : ] = (sk*asp4 , sk*asp3)\n",
        "      \n",
        "  Completed += (layerWidth*layerWidth*numBoxes)\n",
        "\n"
      ],
      "execution_count": 0,
      "outputs": []
    },
    {
      "cell_type": "code",
      "metadata": {
        "id": "WNRMyjdVDZVy",
        "colab_type": "code",
        "colab": {}
      },
      "source": [
        "## BOX FORMAT  x1,y1,x2,y2 being left top and right bottom\n",
        "defaultBoxes[:,0] = defaultCentres[:,0] - (defaultHW[:,0]   *   TARGETSIZE/2)\n",
        "defaultBoxes[:,1] = defaultCentres[:,1] - (defaultHW[:,1]   *   TARGETSIZE/2)\n",
        "defaultBoxes[:,2] = defaultCentres[:,0] + (defaultHW[:,0]   *   TARGETSIZE/2)\n",
        "defaultBoxes[:,3] = defaultCentres[:,1] + (defaultHW[:,1]   *   TARGETSIZE/2)"
      ],
      "execution_count": 0,
      "outputs": []
    },
    {
      "cell_type": "code",
      "metadata": {
        "id": "h7gXjPKIDmYf",
        "colab_type": "code",
        "colab": {}
      },
      "source": [
        "def intersectionOverUnionCalc(box1,box2):\n",
        "  # shape [n , 4]\n",
        "  box1 = box1.astype(np.float32)\n",
        "  box2 = box2.astype(np.float32)\n",
        "  xmin = np.maximum(box1[:,0],box2[:,0])\n",
        "  xmax = np.minimum(box1[:,2],box2[:,2])\n",
        "  ymin = np.maximum(box1[:,1],box2[:,1])\n",
        "  ymax = np.minimum(box1[:,3],box2[:,3])\n",
        "\n",
        "  interSect = np.abs(np.maximum(xmax - xmin, 0) * np.maximum(ymax - ymin, 0) )\n",
        "  boxArea1 = np.abs((box1[:,2] - box1[:,0]) * (box1[:,3] - box1[:,1]))\n",
        "  boxArea2 = np.abs((box2[:,2] - box2[:,0]) * (box2[:,3] - box2[:,1]))\n",
        "  unionArea = boxArea1 + boxArea2 - interSect\n",
        "  iou = interSect / unionArea\n",
        "\n",
        "  return iou"
      ],
      "execution_count": 0,
      "outputs": []
    },
    {
      "cell_type": "code",
      "metadata": {
        "id": "WgPSHlC0Do6a",
        "colab_type": "code",
        "colab": {}
      },
      "source": [
        "def bestBoxIndexCalc(boxDim):\n",
        "  ## boxDim is list of 4 value or np array \n",
        "  return np.argmax(intersectionOverUnionCalc(np.matlib.repmat(boxDim , DEFAULT_BOXES , 1) , defaultBoxes))\n"
      ],
      "execution_count": 0,
      "outputs": []
    },
    {
      "cell_type": "code",
      "metadata": {
        "id": "xWBzDsvkDqx5",
        "colab_type": "code",
        "outputId": "0eb1a0b4-205c-4687-a700-10baeda09a94",
        "colab": {
          "base_uri": "https://localhost:8080/",
          "height": 52
        }
      },
      "source": [
        "### bestBox check\n",
        "print(bestBoxIndexCalc([0,0,10,10]))\n",
        "print(bestBoxIndexCalc([0,0,300,300]))\n"
      ],
      "execution_count": 0,
      "outputs": [
        {
          "output_type": "stream",
          "text": [
            "0\n",
            "8731\n"
          ],
          "name": "stdout"
        }
      ]
    },
    {
      "cell_type": "code",
      "metadata": {
        "id": "kegX2V0JERai",
        "colab_type": "code",
        "colab": {}
      },
      "source": [
        ""
      ],
      "execution_count": 0,
      "outputs": []
    },
    {
      "cell_type": "markdown",
      "metadata": {
        "id": "mKIB6m6IEZwO",
        "colab_type": "text"
      },
      "source": [
        "LOADING THE DATA"
      ]
    },
    {
      "cell_type": "code",
      "metadata": {
        "id": "1QvKt7xnFQsY",
        "colab_type": "code",
        "outputId": "e1dda8d3-54f1-48c0-e496-7b6897b78c01",
        "colab": {
          "base_uri": "https://localhost:8080/",
          "height": 70
        }
      },
      "source": [
        "(x_train, y_train), (x_test, y_test) = tf.keras.datasets.mnist.load_data()\n",
        "\n",
        "x_train = x_train[:TRAINSIZE , : , :]\n",
        "y_train = y_train[:TRAINSIZE]\n",
        "x_test = x_test[:TESTSIZE , : , :]\n",
        "y_test = y_test[:TESTSIZE]\n",
        "\n",
        "gc.collect()"
      ],
      "execution_count": 0,
      "outputs": [
        {
          "output_type": "stream",
          "text": [
            "Downloading data from https://storage.googleapis.com/tensorflow/tf-keras-datasets/mnist.npz\n",
            "11493376/11490434 [==============================] - 0s 0us/step\n"
          ],
          "name": "stdout"
        },
        {
          "output_type": "execute_result",
          "data": {
            "text/plain": [
              "20"
            ]
          },
          "metadata": {
            "tags": []
          },
          "execution_count": 20
        }
      ]
    },
    {
      "cell_type": "code",
      "metadata": {
        "id": "saxvYw8rEVMW",
        "colab_type": "code",
        "outputId": "9441770e-33cc-4303-f682-c016fd2f844b",
        "colab": {
          "base_uri": "https://localhost:8080/",
          "height": 371
        }
      },
      "source": [
        "boxTrain = np.random.randint(TARGETSIZE - CURRENTSIZE, size=(x_train.shape[0], 2))\n",
        "trainInp = np.zeros((x_train.shape[0] , TARGETSIZE,TARGETSIZE, 3) , dtype = np.uint8)\n",
        "\n",
        "trainTarget = np.zeros((x_train.shape[0] , 10) , dtype=np.float32)\n",
        "trainTarget[:,0] = y_train[:]\n",
        "trainTarget[:,1] = boxTrain[: , 0]\n",
        "trainTarget[:,2] = boxTrain[: , 1]\n",
        "trainTarget[:,3] = boxTrain[: , 0] + CURRENTSIZE\n",
        "trainTarget[:,4] = boxTrain[: , 1] + CURRENTSIZE\n",
        "\n",
        "for i in range(x_train.shape[0]):\n",
        "  trainInp[i,boxTrain[i,0]:boxTrain[i,0] + CURRENTSIZE ,  boxTrain[i,1]:boxTrain[i,1] + CURRENTSIZE , 0] = cv2.resize(x_train[i,:,:], (CURRENTSIZE,CURRENTSIZE))\n",
        "  trainInp[i,boxTrain[i,0]:boxTrain[i,0] + CURRENTSIZE ,  boxTrain[i,1]:boxTrain[i,1] + CURRENTSIZE , 1] = cv2.resize(x_train[i,:,:], (CURRENTSIZE,CURRENTSIZE))\n",
        "  trainInp[i,boxTrain[i,0]:boxTrain[i,0] + CURRENTSIZE ,  boxTrain[i,1]:boxTrain[i,1] + CURRENTSIZE , 2] = cv2.resize(x_train[i,:,:], (CURRENTSIZE,CURRENTSIZE))\n",
        "\n",
        "  ## bestBox \n",
        "  trainTarget[i,5] = bestBoxIndexCalc(trainTarget[i,1:5])\n",
        "  ## del cx,cy,h,w\n",
        "  trainTarget[i,6] = (trainTarget[i,3] + trainTarget[i,1])/2.0 -  defaultCentres[trainTarget[i,5].astype(np.int16),0]\n",
        "  trainTarget[i,7] = (trainTarget[i,2] + trainTarget[i,4])/2.0 -  defaultCentres[trainTarget[i,5].astype(np.int16),1]\n",
        "  trainTarget[i,8] = CURRENTSIZE -  defaultHW[trainTarget[i,5].astype(np.int16),0]\n",
        "  trainTarget[i,9] = CURRENTSIZE -  defaultHW[trainTarget[i,5].astype(np.int16),1]\n",
        "\n",
        "\n",
        "r = random.randint(0,x_train.shape[0])\n",
        "print(trainTarget[r , :] , defaultBoxes[ trainTarget[r , 5].astype(np.int16) , :])\n",
        "Image.fromarray(trainInp[r,:,:, :].astype(np.uint8), 'RGB')"
      ],
      "execution_count": 0,
      "outputs": [
        {
          "output_type": "stream",
          "text": [
            "[ 7.0000000e+00  1.5300000e+02  1.4800000e+02  2.0900000e+02\n",
            "  2.0400000e+02  3.4320000e+03  3.3684211e+00 -1.6315789e+00\n",
            "  5.5799999e+01  5.5799999e+01] [147.63157895 147.63157895 207.63157895 207.63157895]\n"
          ],
          "name": "stdout"
        },
        {
          "output_type": "execute_result",
          "data": {
            "image/png": "[encoded data removed]",
            "text/plain": [
              "<PIL.Image.Image image mode=RGB size=300x300 at 0x7F468577BC50>"
            ]
          },
          "metadata": {
            "tags": []
          },
          "execution_count": 21
        }
      ]
    },
    {
      "cell_type": "code",
      "metadata": {
        "id": "dy3EnL7LFOxi",
        "colab_type": "code",
        "outputId": "c5bca770-0812-4c50-dc04-74ed091426c9",
        "colab": {
          "base_uri": "https://localhost:8080/",
          "height": 353
        }
      },
      "source": [
        "boxTest = np.random.randint(TARGETSIZE - CURRENTSIZE, size=(x_test.shape[0], 2))\n",
        "testInp = np.zeros((x_test.shape[0] , TARGETSIZE,TARGETSIZE, 3) , dtype = np.uint8)\n",
        "\n",
        "testTarget = np.zeros((x_test.shape[0] , 10) )\n",
        "testTarget[:,0] = y_test[:]\n",
        "testTarget[:,1] = boxTest[: , 0]\n",
        "testTarget[:,2] = boxTest[: , 1]\n",
        "testTarget[:,3] = boxTest[: , 0] + CURRENTSIZE\n",
        "testTarget[:,4] = boxTest[: , 1] + CURRENTSIZE\n",
        "\n",
        "for i in range(x_test.shape[0]):\n",
        "  testInp[i,boxTest[i,0]:boxTest[i,0] + CURRENTSIZE ,  boxTest[i,1]:boxTest[i,1] + CURRENTSIZE , 0] = cv2.resize(x_test[i,:,:], (CURRENTSIZE,CURRENTSIZE))\n",
        "  testInp[i,boxTest[i,0]:boxTest[i,0] + CURRENTSIZE ,  boxTest[i,1]:boxTest[i,1] + CURRENTSIZE , 1] = cv2.resize(x_test[i,:,:], (CURRENTSIZE,CURRENTSIZE))\n",
        "  testInp[i,boxTest[i,0]:boxTest[i,0] + CURRENTSIZE ,  boxTest[i,1]:boxTest[i,1] + CURRENTSIZE , 2] = cv2.resize(x_test[i,:,:], (CURRENTSIZE,CURRENTSIZE))\n",
        "\n",
        "  ## bestBox \n",
        "  testTarget[i,5] = bestBoxIndexCalc(testTarget[i,1:5])\n",
        "  ## del cx,cy,h,w\n",
        "  testTarget[i,6] = (testTarget[i,3] + testTarget[i,1])/2.0 -  defaultCentres[testTarget[i,5].astype(np.int16),0]\n",
        "  testTarget[i,7] = (testTarget[i,2] + testTarget[i,4])/2.0 -  defaultCentres[testTarget[i,5].astype(np.int16),1]\n",
        "  testTarget[i,8] = CURRENTSIZE -  defaultHW[testTarget[i,5].astype(np.int16),0]\n",
        "  testTarget[i,9] = CURRENTSIZE -  defaultHW[testTarget[i,5].astype(np.int16),1]\n",
        "\n",
        "\n",
        "r = random.randint(0,x_test.shape[0])\n",
        "print(testTarget[r , :] , defaultBoxes[ testTarget[r , 5].astype(np.int16) , :])\n",
        "Image.fromarray(testInp[r,:,: , :].astype(np.uint8), 'RGB')\n"
      ],
      "execution_count": 0,
      "outputs": [
        {
          "output_type": "stream",
          "text": [
            "[   4.           61.           90.          117.          146.\n",
            " 1728.           -1.78947368    3.52631579   55.8          55.8       ] [ 60.78947368  84.47368421 120.78947368 144.47368421]\n"
          ],
          "name": "stdout"
        },
        {
          "output_type": "execute_result",
          "data": {
            "image/png": "[encoded data removed]",
            "text/plain": [
              "<PIL.Image.Image image mode=RGB size=300x300 at 0x7F46856F4780>"
            ]
          },
          "metadata": {
            "tags": []
          },
          "execution_count": 22
        }
      ]
    },
    {
      "cell_type": "code",
      "metadata": {
        "id": "ylTSkcReGprc",
        "colab_type": "code",
        "colab": {}
      },
      "source": [
        ""
      ],
      "execution_count": 0,
      "outputs": []
    },
    {
      "cell_type": "markdown",
      "metadata": {
        "id": "EcFJ12keIH6F",
        "colab_type": "text"
      },
      "source": [
        "DataSet to pass to model"
      ]
    },
    {
      "cell_type": "code",
      "metadata": {
        "id": "ugGXX1ZvIHCu",
        "colab_type": "code",
        "colab": {}
      },
      "source": [
        "train_dataset = tf.data.Dataset.from_tensor_slices((trainInp, trainTarget))\n",
        "test_dataset = tf.data.Dataset.from_tensor_slices((testInp, testTarget))"
      ],
      "execution_count": 0,
      "outputs": []
    },
    {
      "cell_type": "code",
      "metadata": {
        "id": "HYWmCHqeIG92",
        "colab_type": "code",
        "outputId": "29741c5c-4fd0-4a98-8d07-85cfe97c8b7c",
        "colab": {
          "base_uri": "https://localhost:8080/",
          "height": 35
        }
      },
      "source": [
        "print(train_dataset.element_spec)"
      ],
      "execution_count": 0,
      "outputs": [
        {
          "output_type": "stream",
          "text": [
            "(TensorSpec(shape=(300, 300, 3), dtype=tf.uint8, name=None), TensorSpec(shape=(10,), dtype=tf.float32, name=None))\n"
          ],
          "name": "stdout"
        }
      ]
    },
    {
      "cell_type": "code",
      "metadata": {
        "id": "_jAQtzG3IQTf",
        "colab_type": "code",
        "colab": {}
      },
      "source": [
        "BATCH_SIZE = 100\n",
        "SHUFFLE_BUFFER_SIZE = 1000\n",
        "\n",
        "\n",
        "train_dataset = train_dataset.shuffle(SHUFFLE_BUFFER_SIZE).batch(BATCH_SIZE)\n",
        "test_dataset = test_dataset.batch(BATCH_SIZE)"
      ],
      "execution_count": 0,
      "outputs": []
    },
    {
      "cell_type": "code",
      "metadata": {
        "id": "RNQ_f6B9Iphq",
        "colab_type": "code",
        "colab": {}
      },
      "source": [
        ""
      ],
      "execution_count": 0,
      "outputs": []
    },
    {
      "cell_type": "markdown",
      "metadata": {
        "id": "0hDTWDB2JtEo",
        "colab_type": "text"
      },
      "source": [
        "**LOSS FUNCTION CREATION**\n",
        "\n",
        "predicted --> n * 8732 * 15\n",
        "\n",
        "target --> n * 6 [class , BBox , dboxNumber]"
      ]
    },
    {
      "cell_type": "code",
      "metadata": {
        "id": "txRR7S2IJs5I",
        "colab_type": "code",
        "colab": {}
      },
      "source": [
        "def smoothL1(diff):\n",
        "    L2loss = (diff**2)/2.0\n",
        "    absLoss = tf.abs(diff) # - 0.5\n",
        "\n",
        "    return tf.keras.backend.mean(tf.reduce_sum(tf.where(tf.less(absLoss, 1.), L2loss, absLoss-0.5),axis = -1))"
      ],
      "execution_count": 0,
      "outputs": []
    },
    {
      "cell_type": "code",
      "metadata": {
        "id": "XEySRG9qJsyX",
        "colab_type": "code",
        "colab": {}
      },
      "source": [
        "def labelLoss(y_pred,trueLabel):\n",
        "  # pred is n * 10 label is n * 1\n",
        "\n",
        "  return tf.keras.backend.mean(tf.nn.sparse_softmax_cross_entropy_with_logits( tf.cast( trueLabel, tf.int32) ,y_pred ))"
      ],
      "execution_count": 0,
      "outputs": []
    },
    {
      "cell_type": "code",
      "metadata": {
        "id": "16PbJH46JsuL",
        "colab_type": "code",
        "colab": {}
      },
      "source": [
        "## A very bad implementation , iteration over n \n",
        "def LossCreator(batchSize , DEFAULT_BOXES):\n",
        "  def CustomLoss(y_true , y_pred):\n",
        "    Loss = 0\n",
        "    label_batch =  y_true \n",
        "    out_batch = y_pred\n",
        "    for i in range(batchSize):\n",
        "      bestJ = tf.cast(label_batch[i,5] , tf.int32)\n",
        "      Loss +=  smoothL1(out_batch[i,bestJ,:4] - label_batch[i,6:])\n",
        "      trueLabel = tf.cast(label_batch[i,0] , tf.int32)\n",
        "      labelArray = (tf.zeros((DEFAULT_BOXES,)) + 10 ) + (tf.reshape(tf.one_hot([bestJ], DEFAULT_BOXES), [-1]) * (label_batch[i,0] - 10))\n",
        "      Loss += labelLoss(out_batch[i,:,4:],labelArray)\n",
        "    return Loss\n",
        "  return CustomLoss"
      ],
      "execution_count": 0,
      "outputs": []
    },
    {
      "cell_type": "code",
      "metadata": {
        "id": "hLbn7mwDmdkm",
        "colab_type": "code",
        "colab": {}
      },
      "source": [
        "# for image_batch, label_batch in train_dataset.take(1):\n",
        "#    pass\n",
        "\n",
        "# image_batch.shape ,label_batch.shape"
      ],
      "execution_count": 0,
      "outputs": []
    },
    {
      "cell_type": "code",
      "metadata": {
        "id": "5szqTZXAJsl6",
        "colab_type": "code",
        "colab": {}
      },
      "source": [
        "# out_batch = finalModel(image_batch)"
      ],
      "execution_count": 0,
      "outputs": []
    },
    {
      "cell_type": "code",
      "metadata": {
        "id": "t39q-NGQazj_",
        "colab_type": "code",
        "colab": {}
      },
      "source": [
        "# CustomLoss(label_batch,out_batch)"
      ],
      "execution_count": 0,
      "outputs": []
    },
    {
      "cell_type": "code",
      "metadata": {
        "id": "FdbpGUhbazeQ",
        "colab_type": "code",
        "colab": {}
      },
      "source": [
        "base_learning_rate = 0.001\n",
        "finalModel.compile(optimizer=tf.keras.optimizers.RMSprop(lr=base_learning_rate),\n",
        "              loss=LossCreator(BATCH_SIZE , DEFAULT_BOXES))\n"
      ],
      "execution_count": 0,
      "outputs": []
    },
    {
      "cell_type": "code",
      "metadata": {
        "id": "zuAl9QP3azcJ",
        "colab_type": "code",
        "colab": {}
      },
      "source": [
        "initial_epochs = 25\n"
      ],
      "execution_count": 0,
      "outputs": []
    },
    {
      "cell_type": "code",
      "metadata": {
        "id": "kZaAY3ZZazZY",
        "colab_type": "code",
        "outputId": "06a01df6-9936-4ff3-82fd-1fe28b4645ce",
        "colab": {
          "base_uri": "https://localhost:8080/",
          "height": 906
        }
      },
      "source": [
        "history = finalModel.fit(train_dataset,\n",
        "                    epochs=initial_epochs,\n",
        "                    validation_data=test_dataset)"
      ],
      "execution_count": 0,
      "outputs": [
        {
          "output_type": "stream",
          "text": [
            "Epoch 1/25\n",
            "60/60 [==============================] - 25s 409ms/step - loss: 619.9014 - val_loss: 505.8216\n",
            "Epoch 2/25\n",
            "60/60 [==============================] - 16s 275ms/step - loss: 458.3524 - val_loss: 468.8404\n",
            "Epoch 3/25\n",
            "60/60 [==============================] - 16s 270ms/step - loss: 406.3410 - val_loss: 385.0652\n",
            "Epoch 4/25\n",
            "60/60 [==============================] - 16s 271ms/step - loss: 365.9013 - val_loss: 417.3646\n",
            "Epoch 5/25\n",
            "60/60 [==============================] - 16s 274ms/step - loss: 344.0916 - val_loss: 330.9933\n",
            "Epoch 6/25\n",
            "60/60 [==============================] - 16s 271ms/step - loss: 326.4107 - val_loss: 361.1674\n",
            "Epoch 7/25\n",
            "60/60 [==============================] - 16s 270ms/step - loss: 316.4149 - val_loss: 337.7645\n",
            "Epoch 8/25\n",
            "60/60 [==============================] - 16s 271ms/step - loss: 305.1471 - val_loss: 369.0491\n",
            "Epoch 9/25\n",
            "60/60 [==============================] - 16s 271ms/step - loss: 295.3419 - val_loss: 318.5701\n",
            "Epoch 10/25\n",
            "60/60 [==============================] - 16s 271ms/step - loss: 289.9903 - val_loss: 300.8137\n",
            "Epoch 11/25\n",
            "60/60 [==============================] - 16s 268ms/step - loss: 283.9780 - val_loss: 317.9758\n",
            "Epoch 12/25\n",
            "60/60 [==============================] - 16s 269ms/step - loss: 283.0488 - val_loss: 293.9285\n",
            "Epoch 13/25\n",
            "60/60 [==============================] - 16s 272ms/step - loss: 273.4345 - val_loss: 365.2982\n",
            "Epoch 14/25\n",
            "60/60 [==============================] - 16s 274ms/step - loss: 271.8721 - val_loss: 357.5717\n",
            "Epoch 15/25\n",
            "60/60 [==============================] - 16s 273ms/step - loss: 270.1067 - val_loss: 308.7870\n",
            "Epoch 16/25\n",
            "60/60 [==============================] - 16s 269ms/step - loss: 265.7675 - val_loss: 360.8620\n",
            "Epoch 17/25\n",
            "60/60 [==============================] - 16s 275ms/step - loss: 264.5721 - val_loss: 268.0016\n",
            "Epoch 18/25\n",
            "60/60 [==============================] - 16s 271ms/step - loss: 261.2425 - val_loss: 268.6130\n",
            "Epoch 19/25\n",
            "60/60 [==============================] - 16s 269ms/step - loss: 259.0782 - val_loss: 301.5409\n",
            "Epoch 20/25\n",
            "60/60 [==============================] - 16s 269ms/step - loss: 257.3475 - val_loss: 280.6316\n",
            "Epoch 21/25\n",
            "60/60 [==============================] - 16s 273ms/step - loss: 255.1293 - val_loss: 275.4913\n",
            "Epoch 22/25\n",
            "60/60 [==============================] - 17s 276ms/step - loss: 255.2503 - val_loss: 308.6562\n",
            "Epoch 23/25\n",
            "60/60 [==============================] - 16s 270ms/step - loss: 248.4719 - val_loss: 306.3476\n",
            "Epoch 24/25\n",
            "60/60 [==============================] - 16s 267ms/step - loss: 250.6509 - val_loss: 275.6390\n",
            "Epoch 25/25\n",
            "60/60 [==============================] - 16s 273ms/step - loss: 246.0764 - val_loss: 334.4764\n"
          ],
          "name": "stdout"
        }
      ]
    },
    {
      "cell_type": "code",
      "metadata": {
        "id": "Odu4SdLexr3y",
        "colab_type": "code",
        "colab": {}
      },
      "source": [
        ""
      ],
      "execution_count": 0,
      "outputs": []
    },
    {
      "cell_type": "code",
      "metadata": {
        "id": "b-ndcPAF1k9t",
        "colab_type": "code",
        "colab": {}
      },
      "source": [
        ""
      ],
      "execution_count": 0,
      "outputs": []
    },
    {
      "cell_type": "code",
      "metadata": {
        "id": "U_bhv8wj1k6d",
        "colab_type": "code",
        "colab": {}
      },
      "source": [
        ""
      ],
      "execution_count": 0,
      "outputs": []
    },
    {
      "cell_type": "markdown",
      "metadata": {
        "id": "9QJtAVcC1lwI",
        "colab_type": "text"
      },
      "source": [
        "ToDo List\n",
        "\n",
        "\n",
        "\n",
        "*   Inference on test time\n",
        "*   Visualise data with box\n",
        "\n"
      ]
    },
    {
      "cell_type": "code",
      "metadata": {
        "id": "Ew1jrOTL1k2g",
        "colab_type": "code",
        "colab": {}
      },
      "source": [
        ""
      ],
      "execution_count": 0,
      "outputs": []
    }
  ]
}